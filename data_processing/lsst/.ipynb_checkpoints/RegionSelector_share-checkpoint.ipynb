{
 "cells": [
  {
   "cell_type": "markdown",
   "id": "aeba02f7-4dfb-40ec-b558-f803e0308c8b",
   "metadata": {},
   "source": [
    "### Selects a region of sky and returns the corresponding catalog "
   ]
  },
  {
   "cell_type": "code",
   "execution_count": 1,
   "id": "e0c98f3f-fe7d-427c-967e-0371a5cb5c23",
   "metadata": {
    "tags": []
   },
   "outputs": [],
   "source": [
    "import sys\n",
    "sys.path.insert(0, '/global/u1/g/g4merz/gcr-catalogs')"
   ]
  },
  {
   "cell_type": "code",
   "execution_count": 2,
   "id": "148fc74e-1c6a-4b9d-96e2-c423abca5b7e",
   "metadata": {
    "tags": []
   },
   "outputs": [],
   "source": [
    "import numpy as np\n",
    "import matplotlib.pyplot as plt\n",
    "import lsst.daf.butler as Butler\n",
    "import lsst.daf.persistence as dafPersist\n",
    "#from lsst.rsp import get_tap_service\n",
    "import lsst.geom as geom\n",
    "import lsst.afw.display as afwDisplay\n",
    "from lsst.afw.image import MaskedImage\n",
    "from lsst.afw.image import MultibandExposure\n",
    "from astropy.visualization import make_lupton_rgb\n",
    "import pandas as pd\n",
    "from GCRCatalogs import GCRQuery\n",
    "import time\n",
    "import GCRCatalogs\n",
    "import healpy as hp\n",
    "from collections import namedtuple\n",
    "import lsst.afw.table as afw_table"
   ]
  },
  {
   "cell_type": "code",
   "execution_count": 3,
   "id": "47fe525b-07ef-40fc-928b-da32e482789c",
   "metadata": {
    "tags": []
   },
   "outputs": [
    {
     "data": {
      "text/plain": [
       "'1.8.0'"
      ]
     },
     "execution_count": 3,
     "metadata": {},
     "output_type": "execute_result"
    }
   ],
   "source": [
    "GCRCatalogs.__version__"
   ]
  },
  {
   "cell_type": "code",
   "execution_count": 4,
   "id": "72ad67e8-18bc-4e60-8f37-bf816c5787b1",
   "metadata": {
    "tags": []
   },
   "outputs": [],
   "source": [
    "\n",
    "\n",
    "def make_SourceCatalog(new_cols):\n",
    "    \"\"\"\n",
    "    Make a SourceCatalog to contain id and coordinates for each object, plus any new\n",
    "    columns.\n",
    "    \n",
    "    Parameters\n",
    "    ----------\n",
    "    new_cols: list of Coldefs\n",
    "        Column info for adding to an afw.table schema.\n",
    "\n",
    "    Returns\n",
    "    -------\n",
    "    lsst.afw.table.SourceCatalog: An empty SourceCatalog with the desired schema.\n",
    "    \"\"\"\n",
    "    # The minimal schema just contains the `id`, `coord_ra`, and `coord_dec` fields.\n",
    "    schema = afw_table.SourceTable.makeMinimalSchema()\n",
    "    for coldef in new_cols:\n",
    "        schema.addField(coldef.name, type=coldef.type, doc=coldef.doc)\n",
    "    return afw_table.SourceCatalog(schema)\n",
    "\n",
    "\n",
    "def mag_cols(bands):\n",
    "    \"\"\"Return column information for adding magnitude columns to an afw.table schema.\"\"\"\n",
    "    Coldef = namedtuple('Coldef', 'name type doc'.split())\n",
    "    return [Coldef(f'mag_{x}', float, f'{x}-magnitude')\n",
    "            for x in bands]\n",
    "\n"
   ]
  },
  {
   "cell_type": "code",
   "execution_count": 5,
   "id": "b7f4df0b-a8d9-4628-99a7-5729c8f161c3",
   "metadata": {
    "tags": []
   },
   "outputs": [],
   "source": [
    "class TruthRegionSelector:\n",
    "    \"\"\"\n",
    "    Class to rotate the protoDC2 galaxies to the Run1.1p sky location and downselect those galaxies\n",
    "    based on a magnitude limit and on the coordinates of the subregion (i.e., patch or CCD) being\n",
    "    considered.\n",
    "    \"\"\"\n",
    "\n",
    "    def __init__(self):\n",
    "        pass\n",
    "    \n",
    "    def _set_coord_range(self, bbox, wcs):\n",
    "        \"\"\"\n",
    "        Set the coordinate range of the region.\n",
    "        \n",
    "        Notes\n",
    "        -----\n",
    "        This method is used by the RegionSelector's subclasses.\n",
    "        \n",
    "        Parameters\n",
    "        ----------\n",
    "        bbox: Calexp.BBox\n",
    "            Defines corners of region's bounding box\n",
    "        wcs: Calexp.Wcs\n",
    "            Defines pixel to world (sky) coordinate transformation\n",
    "        \"\"\"\n",
    "        region_box = geom.Box2D(bbox)\n",
    "        corners = region_box.getCorners()\n",
    "        ra_values, dec_values = [], []\n",
    "        for corner in corners:\n",
    "            ra, dec = wcs.pixelToSky(corner)\n",
    "            ra_values.append(ra.asDegrees())\n",
    "            dec_values.append(dec.asDegrees())\n",
    "        self.ra_range = min(ra_values), max(ra_values)\n",
    "        self.dec_range = min(dec_values), max(dec_values)\n",
    "\n",
    "    def __call__(self, gc, band, max_mag):\n",
    "        \"\"\"\n",
    "        Create a SourceCatalog object from the input galaxy catalog for the specified band, and\n",
    "        apply the region and magnitude cuts.\n",
    "\n",
    "        Parameters\n",
    "        ----------\n",
    "        gc: GCRCatalogs GalaxyCatalog\n",
    "            The galaxy catalog obtained via GCR.\n",
    "        band: str\n",
    "            The band, e.g., 'i', to use for the magnitude comparison with the values measured\n",
    "            from the simulated data.\n",
    "        max_mag: float\n",
    "            The magnitude limit to apply.\n",
    "\n",
    "        Returns\n",
    "        -------\n",
    "        lsst.afw.table.SourceCatalog\n",
    "        \"\"\"\n",
    "        # Retrieve the healpix pixels corresponding to the catalog so we don't query the full catalog\n",
    "        vertices = hp.ang2vec(np.array([self.ra_range[0], self.ra_range[1],\n",
    "                                        self.ra_range[1], self.ra_range[0]]),\n",
    "                              np.array([self.dec_range[0], self.dec_range[0],\n",
    "                                        self.dec_range[1], self.dec_range[1]]), lonlat=True)\n",
    "        ipix = hp.query_polygon(32, vertices, inclusive=True)\n",
    "        # We are going to pass the healpixels that overlap with our catalog as native filters to speed up the process\n",
    "        native_filter = f'(healpix_pixel == {ipix[0]})'\n",
    "        for ipx in ipix:\n",
    "            native_filter=native_filter+f' | (healpix_pixel == {ipx})'\n",
    "        #native_filter = f'(tract == {self.tract})'\n",
    "        # Retrieve the desired columns and cut on the magnitude values.\n",
    "        bandname = f'mag_{band}'\n",
    "        filter_ = f'{bandname} < {max_mag}'\n",
    "        print(\"Applying magnitude filter:\", filter_)\n",
    "        \n",
    "        cols = ['ra', 'dec', 'redshift', 'galaxy_id', 'R_v', 'A_v', 'size_true', 'size_minor_true',\n",
    "               'mag_true_u', 'mag_true_g','mag_true_r','mag_true_i','mag_true_z','mag_true_y', \n",
    "               'size_bulge_true','size_minor_bulge_true','ellipticity_1_bulge_true', 'ellipticity_2_bulge_true',\n",
    "               'size_disk_true', 'size_minor_disk_true', 'ellipticity_1_disk_true', 'ellipticity_2_disk_true', \n",
    "                'convergence', 'ellipticity_1_true', 'ellipticity_2_true',\n",
    "               'SDSS_filters/spheroidLuminositiesStellar:SDSS_g:observed', 'SDSS_filters/diskLuminositiesStellar:SDSS_g:observed',\n",
    "               'SDSS_filters/spheroidLuminositiesStellar:SDSS_r:observed', 'SDSS_filters/diskLuminositiesStellar:SDSS_r:observed',\n",
    "               'SDSS_filters/spheroidLuminositiesStellar:SDSS_i:observed', 'SDSS_filters/diskLuminositiesStellar:SDSS_i:observed',\n",
    "               'SDSS_filters/spheroidLuminositiesStellar:SDSS_z:observed', 'SDSS_filters/diskLuminositiesStellar:SDSS_z:observed',\n",
    "               'LSST_filters/spheroidLuminositiesStellar:LSST_y:observed', 'LSST_filters/diskLuminositiesStellar:LSST_y:observed',\n",
    "               'LSST_filters/spheroidLuminositiesStellar:LSST_u:observed', 'LSST_filters/diskLuminositiesStellar:LSST_u:observed',\n",
    "               'shear_1', 'shear_2', 'shear_1', 'shear_2', 'position_angle_true', 'morphology/spheroidEllipticity', 'morphology/diskEllipticity',\n",
    "               'morphology/totalEllipticity', 'morphology/positionAngle', 'position_angle_true_dc2', bandname]\n",
    "        \n",
    "        gc_cols = gc.get_quantities(cols, filters=[filter_, \n",
    "                                                         f'ra > {self.ra_range[0]}',\n",
    "                                                         f'ra < {self.ra_range[1]}',\n",
    "                                                         f'dec > {self.dec_range[0]}',\n",
    "                                                         f'dec < {self.dec_range[1]}',\n",
    "                                                        ],\n",
    "                                    native_filters = native_filter)\n",
    "        print(\"Number of galaxies within region:\", len(gc_cols['ra']))\n",
    "\n",
    "        obj = pd.DataFrame(gc_cols)\n",
    "        return obj\n",
    "        \n",
    "        # Create a SourceCatalog with the galaxy_ids, coordinates, magnitudes\n",
    "        #galaxy_catalog = make_SourceCatalog(mag_cols((band,)))\n",
    "        #for id_, ra, dec, mag in zip(gc_cols['galaxy_id'], gc_cols['ra'], gc_cols['dec'], gc_cols[bandname]):\n",
    "        #    record = galaxy_catalog.addNew()\n",
    "        #    record.set('id', id_)\n",
    "        #    record.set('coord_ra', geom.Angle(ra, geom.degrees))\n",
    "        #    record.set('coord_dec', geom.Angle(dec, geom.degrees))\n",
    "        #    record.set(f'mag_{band}', mag)\n",
    "        #return galaxy_catalog"
   ]
  },
  {
   "cell_type": "code",
   "execution_count": 15,
   "id": "1631aa5c-097a-4671-befa-9b1dd7e198a6",
   "metadata": {
    "tags": []
   },
   "outputs": [],
   "source": [
    "class RegionSelector:\n",
    "    \"\"\"\n",
    "    Class to rotate the protoDC2 galaxies to the Run1.1p sky location and downselect those galaxies\n",
    "    based on a magnitude limit and on the coordinates of the subregion (i.e., patch or CCD) being\n",
    "    considered.\n",
    "    \"\"\"\n",
    "\n",
    "    def __init__(self):\n",
    "        pass\n",
    "    \n",
    "    def _set_coord_range(self, bbox, wcs):\n",
    "        \"\"\"\n",
    "        Set the coordinate range of the region.\n",
    "        \n",
    "        Notes\n",
    "        -----\n",
    "        This method is used by the RegionSelector's subclasses.\n",
    "        \n",
    "        Parameters\n",
    "        ----------\n",
    "        bbox: Calexp.BBox\n",
    "            Defines corners of region's bounding box\n",
    "        wcs: Calexp.Wcs\n",
    "            Defines pixel to world (sky) coordinate transformation\n",
    "        \"\"\"\n",
    "        region_box = geom.Box2D(bbox)\n",
    "        corners = region_box.getCorners()\n",
    "        ra_values, dec_values = [], []\n",
    "        for corner in corners:\n",
    "            ra, dec = wcs.pixelToSky(corner)\n",
    "            ra_values.append(ra.asDegrees())\n",
    "            dec_values.append(dec.asDegrees())\n",
    "        self.ra_range = min(ra_values), max(ra_values)\n",
    "        self.dec_range = min(dec_values), max(dec_values)\n",
    "\n",
    "    def __call__(self, gc, band, max_mag):\n",
    "        \"\"\"\n",
    "        Create a SourceCatalog object from the input galaxy catalog for the specified band, and\n",
    "        apply the region and magnitude cuts.\n",
    "\n",
    "        Parameters\n",
    "        ----------\n",
    "        gc: GCRCatalogs GalaxyCatalog\n",
    "            The galaxy catalog obtained via GCR.\n",
    "        band: str\n",
    "            The band, e.g., 'i', to use for the magnitude comparison with the values measured\n",
    "            from the simulated data.\n",
    "        max_mag: float\n",
    "            The magnitude limit to apply.\n",
    "\n",
    "        Returns\n",
    "        -------\n",
    "        lsst.afw.table.SourceCatalog\n",
    "        \"\"\"\n",
    "        # Retrieve the healpix pixels corresponding to the catalog so we don't query the full catalog\n",
    "        vertices = hp.ang2vec(np.array([self.ra_range[0], self.ra_range[1],\n",
    "                                        self.ra_range[1], self.ra_range[0]]),\n",
    "                              np.array([self.dec_range[0], self.dec_range[0],\n",
    "                                        self.dec_range[1], self.dec_range[1]]), lonlat=True)\n",
    "        ipix = hp.query_polygon(32, vertices, inclusive=True)\n",
    "        # We are going to pass the healpixels that overlap with our catalog as native filters to speed up the process\n",
    "        #native_filter = f'(healpix_pixel == {ipix[0]})'\n",
    "        #for ipx in ipix:\n",
    "        #    native_filter=native_filter+f' | (healpix_pixel == {ipx})'\n",
    "        native_filter = f'(tract == {self.tract})'\n",
    "        # Retrieve the desired columns and cut on the magnitude values.\n",
    "        bandname = f'mag_{band}'\n",
    "        filter_ = f'{bandname} < {max_mag}'\n",
    "        print(\"Applying magnitude filter:\", filter_)\n",
    "        \n",
    "        cols = ['objectId', 'id_truth','match_objectId', 'ra', 'dec', bandname]\n",
    "        \n",
    "        gc_cols = gc.get_quantities(cols, filters=[filter_, \n",
    "                                                         f'ra > {self.ra_range[0]}',\n",
    "                                                         f'ra < {self.ra_range[1]}',\n",
    "                                                         f'dec > {self.dec_range[0]}',\n",
    "                                                         f'dec < {self.dec_range[1]}',\n",
    "                                                        ],\n",
    "                                    native_filters = native_filter)\n",
    "        print(\"Number of galaxies within region:\", len(gc_cols['ra']))\n",
    "\n",
    "        obj = pd.DataFrame(gc_cols)\n",
    "        return obj\n"
   ]
  },
  {
   "cell_type": "code",
   "execution_count": 16,
   "id": "a855be95-2d8e-417e-a1c7-218ed67f598f",
   "metadata": {},
   "outputs": [],
   "source": [
    "class TruthPatchSelector(TruthRegionSelector):\n",
    "    \"\"\"RegionSelector to use with skyMap patches, i.e., coadd data.\"\"\"\n",
    "    def __init__(self, butler, tract, patch):\n",
    "        super(TruthPatchSelector, self).__init__()\n",
    "        # Get the patch boundaries.\n",
    "        skymap = butler.get('deepCoadd_skyMap')\n",
    "        tractInfo = skymap[tract]\n",
    "        patchInfo = tractInfo.getPatchInfo(eval(patch))\n",
    "        self._set_coord_range(patchInfo.getOuterBBox(), tractInfo.getWcs())\n",
    "        self.tract = tract\n",
    "        \n",
    "class PatchSelector(RegionSelector):\n",
    "    \"\"\"RegionSelector to use with skyMap patches, i.e., coadd data.\"\"\"\n",
    "    def __init__(self, butler, tract, patch):\n",
    "        super(PatchSelector, self).__init__()\n",
    "        # Get the patch boundaries.\n",
    "        skymap = butler.get('deepCoadd_skyMap')\n",
    "        tractInfo = skymap[tract]\n",
    "        patchInfo = tractInfo.getPatchInfo(eval(patch))\n",
    "        self._set_coord_range(patchInfo.getOuterBBox(), tractInfo.getWcs())\n",
    "        self.tract = tract"
   ]
  },
  {
   "cell_type": "code",
   "execution_count": 10,
   "id": "0f33cb90-39f9-480d-9c30-9ec2a99b1a0c",
   "metadata": {
    "tags": []
   },
   "outputs": [],
   "source": [
    "repo = '/global/cfs/cdirs/lsst/shared/DC2-prod/Run2.2i/desc_dm_drp/v19.0.0/rerun/run2.2i-dr6-v2'\n",
    "butler = dafPersist.Butler(repo)"
   ]
  },
  {
   "cell_type": "code",
   "execution_count": 17,
   "id": "c7a566b4-9a07-4207-b394-1b665bab1b3f",
   "metadata": {
    "tags": []
   },
   "outputs": [],
   "source": [
    "# Get the coadd catalog for a selected filter, tract, and patch:\n",
    "band = 'i'\n",
    "tract = 3828\n",
    "patch = '1,2'\n",
    "\n",
    "true_region_selector = TruthPatchSelector(butler, tract, patch)\n",
    "region_selector = PatchSelector(butler, tract, patch)"
   ]
  },
  {
   "cell_type": "code",
   "execution_count": null,
   "id": "8279a90f-977b-4981-8d43-ff4807601733",
   "metadata": {
    "tags": []
   },
   "outputs": [],
   "source": []
  },
  {
   "cell_type": "code",
   "execution_count": 18,
   "id": "a3d32d78-ce6e-4f84-a4dc-11fc03f0c253",
   "metadata": {
    "tags": []
   },
   "outputs": [],
   "source": [
    "# Load the object catalog\n",
    "obj_catalog = GCRCatalogs.load_catalog('dc2_object_run2.2i_dr6_with_addons')\n",
    "catalog = GCRCatalogs.load_catalog('cosmoDC2_v1.1.4_image')\n"
   ]
  },
  {
   "cell_type": "code",
   "execution_count": 19,
   "id": "96f7d631-e46b-4adb-be3d-dca985d943c5",
   "metadata": {
    "tags": []
   },
   "outputs": [
    {
     "name": "stdout",
     "output_type": "stream",
     "text": [
      "position_angle_true\n",
      "position_angle_true_phosim\n",
      "position_angle_true_dc2\n"
     ]
    }
   ],
   "source": [
    "#catalog.list_all_quantities()\n",
    "for col in catalog.list_all_quantities():\n",
    "    if \"angle\" in col:\n",
    "        print(col)"
   ]
  },
  {
   "cell_type": "code",
   "execution_count": 20,
   "id": "47959eae-39da-4451-b0da-da40f93c029d",
   "metadata": {
    "tags": []
   },
   "outputs": [
    {
     "name": "stdout",
     "output_type": "stream",
     "text": [
      "Applying magnitude filter: mag_i < 26.4\n"
     ]
    },
    {
     "name": "stderr",
     "output_type": "stream",
     "text": [
      "/global/u1/g/g4merz/gcr-catalogs/GCRCatalogs/dc2_dm_catalog.py:43: RuntimeWarning: invalid value encountered in log10\n",
      "  return -2.5 * np.log10(flux) + AB_mag_zp_wrt_nanoJansky\n"
     ]
    },
    {
     "name": "stdout",
     "output_type": "stream",
     "text": [
      "Number of galaxies within region: 19984\n"
     ]
    }
   ],
   "source": [
    "mag_max = 26.4\n",
    "galaxy_catalog = region_selector(obj_catalog, band=band, max_mag=mag_max)"
   ]
  },
  {
   "cell_type": "code",
   "execution_count": 25,
   "id": "b2ec53ef-13e9-47ee-b447-493ffb615bf7",
   "metadata": {
    "tags": []
   },
   "outputs": [],
   "source": [
    "#Save the catalog \n",
    "#galaxy_catalog.to_csv('/pscratch/sd/g/g4merz/deepdisc/fullpatch_data/3828_1,2_cat.csv')"
   ]
  },
  {
   "cell_type": "code",
   "execution_count": null,
   "id": "110f5695-df75-4d64-8103-230f8c96f079",
   "metadata": {},
   "outputs": [],
   "source": []
  },
  {
   "cell_type": "code",
   "execution_count": null,
   "id": "2e3ff6a4-3698-4cc6-9fac-dbdc093e26a5",
   "metadata": {},
   "outputs": [],
   "source": []
  },
  {
   "cell_type": "code",
   "execution_count": null,
   "id": "a8c1cd9d-5150-45cb-853c-fec49861d412",
   "metadata": {},
   "outputs": [],
   "source": []
  },
  {
   "cell_type": "code",
   "execution_count": null,
   "id": "e8d8cea2-74f6-4409-81b6-cd39572ee64d",
   "metadata": {},
   "outputs": [],
   "source": []
  }
 ],
 "metadata": {
  "kernelspec": {
   "display_name": "desc-stack",
   "language": "python",
   "name": "desc-stack"
  },
  "language_info": {
   "codemirror_mode": {
    "name": "ipython",
    "version": 3
   },
   "file_extension": ".py",
   "mimetype": "text/x-python",
   "name": "python",
   "nbconvert_exporter": "python",
   "pygments_lexer": "ipython3",
   "version": "3.7.2"
  }
 },
 "nbformat": 4,
 "nbformat_minor": 5
}
